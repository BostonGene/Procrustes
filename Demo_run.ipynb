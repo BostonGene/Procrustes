{
 "cells": [
  {
   "cell_type": "markdown",
   "metadata": {},
   "source": [
    "# Import"
   ]
  },
  {
   "cell_type": "code",
   "execution_count": 1,
   "metadata": {},
   "outputs": [],
   "source": [
    "import procrustes_bg\n",
    "import os\n",
    "from procrustes_bg.transform import *\n",
    "from procrustes_bg.plot import *\n",
    "import pandas as pd"
   ]
  },
  {
   "cell_type": "markdown",
   "metadata": {},
   "source": [
    "## V7_UTR"
   ]
  },
  {
   "cell_type": "markdown",
   "metadata": {},
   "source": [
    "Specify folder. Repository contains all necessary files by default "
   ]
  },
  {
   "cell_type": "code",
   "execution_count": 2,
   "metadata": {},
   "outputs": [],
   "source": [
    "data_path = os.path.dirname(procrustes_bg.__file__)"
   ]
  },
  {
   "cell_type": "markdown",
   "metadata": {},
   "source": [
    "**Prediction**"
   ]
  },
  {
   "cell_type": "markdown",
   "metadata": {},
   "source": [
    "Set library prep kit version or path to custom model coefficients "
   ]
  },
  {
   "cell_type": "code",
   "execution_count": 3,
   "metadata": {},
   "outputs": [
    {
     "name": "stdout",
     "output_type": "stream",
     "text": [
      "Read EC dataset\n",
      "Transformation from EC into poly-A. Test data - V7_UTR\n"
     ]
    }
   ],
   "source": [
    "test_type = 'V7_UTR'\n",
    "\n",
    "coeffs = os.path.join(f'{data_path}/data/{test_type}_coefficients.json')\n",
    "ec_path = os.path.join(f'{data_path}/data/{test_type}_EC_exp.tsv')\n",
    "polya_path = os.path.join(f'{data_path}/data/{test_type}_polyA_exp.tsv')\n",
    "output_path_ccc = ''\n",
    "output_path_exp = ''\n",
    "\n",
    "print('Read EC dataset')\n",
    "test_ec = pd.read_csv(ec_path, index_col=0, sep='\\t')\n",
    "\n",
    "print(f'Transformation from EC into poly-A. Test data - {test_type}')\n",
    "\n",
    "test_results = Procrustes_predict(test_ec, path_to_coeffs=coeffs)"
   ]
  },
  {
   "cell_type": "markdown",
   "metadata": {},
   "source": [
    "**Calculate concordance correlation coefficient (CCC)**"
   ]
  },
  {
   "cell_type": "code",
   "execution_count": 4,
   "metadata": {
    "scrolled": true
   },
   "outputs": [
    {
     "name": "stdout",
     "output_type": "stream",
     "text": [
      "Read polyA dataset\n",
      "Calculating concordance correlation coefficient\n",
      "Done!\n"
     ]
    }
   ],
   "source": [
    "print('Read polyA dataset')\n",
    "\n",
    "test_polya = pd.read_csv(polya_path, sep='\\t', index_col=0)\n",
    "\n",
    "print('Calculating concordance correlation coefficient')\n",
    "\n",
    "ccc_before = calculate_ccc(test_ec, test_polya)\n",
    "ccc_before.index = test_polya.columns\n",
    "ccc_before.name = 'Before transformation'\n",
    "\n",
    "ccc_after = calculate_ccc(test_results, test_polya)\n",
    "ccc_after.index = test_polya.columns\n",
    "ccc_after.name = 'After transformation'\n",
    "\n",
    "ccc_results = pd.concat([ccc_before, ccc_after], axis=1)\n",
    "\n",
    "print('Done!')"
   ]
  },
  {
   "cell_type": "markdown",
   "metadata": {},
   "source": [
    "Devide CCC into three intervals"
   ]
  },
  {
   "cell_type": "code",
   "execution_count": 5,
   "metadata": {
    "scrolled": true
   },
   "outputs": [],
   "source": [
    "ccc_pv_before = pd.cut(ccc_results['Before transformation'], \n",
    "                       [-.1, .5, .8, 1.1], labels=['0-0.5', '0.5-0.8', '0.8-1.0'])\n",
    "ccc_pv_before = ccc_pv_before.value_counts() / 20062\n",
    "ccc_pv_before = ccc_pv_before\n",
    "\n",
    "ccc_pv_after = pd.cut(ccc_results['After transformation'], \n",
    "                       [-.1, .5, .8, 1.1], labels=['0-0.5', '0.5-0.8', '0.8-1.0'])\n",
    "ccc_pv_after = ccc_pv_after.value_counts() / 20062\n",
    "ccc_pv_after = ccc_pv_after\n",
    "\n",
    "ccc_pv = pd.concat([ccc_pv_before, ccc_pv_after], axis=1)\n",
    "ccc_pv.columns = ['Before transformation', 'After transformation']"
   ]
  },
  {
   "cell_type": "code",
   "execution_count": null,
   "metadata": {},
   "outputs": [],
   "source": []
  },
  {
   "cell_type": "code",
   "execution_count": 6,
   "metadata": {},
   "outputs": [
    {
     "data": {
      "text/plain": [
       "<Axes: >"
      ]
     },
     "execution_count": 6,
     "metadata": {},
     "output_type": "execute_result"
    },
    {
     "data": {
      "image/png": "[encoded data removed]",
      "text/plain": [
       "<Figure size 500x500 with 1 Axes>"
      ]
     },
     "metadata": {},
     "output_type": "display_data"
    }
   ],
   "source": [
    "bot_bar_plot(ccc_pv.loc[['0.8-1.0', '0.5-0.8', '0-0.5']].T, palette=b_palette)"
   ]
  },
  {
   "cell_type": "code",
   "execution_count": null,
   "metadata": {},
   "outputs": [],
   "source": []
  },
  {
   "cell_type": "markdown",
   "metadata": {},
   "source": [
    "## V4 (MET500)"
   ]
  },
  {
   "cell_type": "markdown",
   "metadata": {},
   "source": [
    "**Prediction**"
   ]
  },
  {
   "cell_type": "markdown",
   "metadata": {},
   "source": [
    "Set library prep kit version or path to custom model coefficients "
   ]
  },
  {
   "cell_type": "code",
   "execution_count": 7,
   "metadata": {},
   "outputs": [
    {
     "name": "stdout",
     "output_type": "stream",
     "text": [
      "Read EC dataset\n",
      "Transformation from EC into poly-A. Test data - V4\n"
     ]
    }
   ],
   "source": [
    "test_type = 'V4'\n",
    "\n",
    "coeffs = os.path.join(f'{data_path}/data/{test_type}_coefficients.json')\n",
    "ec_path = os.path.join(f'{data_path}/data/{test_type}_EC_exp.tsv')\n",
    "polya_path = os.path.join(f'{data_path}/data/{test_type}_polyA_exp.tsv')\n",
    "output_path_ccc = ''\n",
    "output_path_exp = ''\n",
    "\n",
    "print('Read EC dataset')\n",
    "test_ec = pd.read_csv(ec_path, index_col=0, sep='\\t')\n",
    "\n",
    "print(f'Transformation from EC into poly-A. Test data - {test_type}')\n",
    "\n",
    "test_results = Procrustes_predict(test_ec, path_to_coeffs=coeffs)"
   ]
  },
  {
   "cell_type": "markdown",
   "metadata": {},
   "source": [
    "**Calculate concordance correlation coefficient (CCC)**"
   ]
  },
  {
   "cell_type": "code",
   "execution_count": 8,
   "metadata": {
    "scrolled": true
   },
   "outputs": [
    {
     "name": "stdout",
     "output_type": "stream",
     "text": [
      "Read polyA dataset\n",
      "Calculating concordance correlation coefficient\n",
      "Done!\n"
     ]
    }
   ],
   "source": [
    "print('Read polyA dataset')\n",
    "\n",
    "test_polya = pd.read_csv(polya_path, sep='\\t', index_col=0)\n",
    "\n",
    "print('Calculating concordance correlation coefficient')\n",
    "\n",
    "ccc_before = calculate_ccc(test_ec, test_polya)\n",
    "ccc_before.index = test_polya.columns\n",
    "ccc_before.name = 'Before transformation'\n",
    "\n",
    "ccc_after = calculate_ccc(test_results, test_polya)\n",
    "ccc_after.index = test_polya.columns\n",
    "ccc_after.name = 'After transformation'\n",
    "\n",
    "ccc_results = pd.concat([ccc_before, ccc_after], axis=1)\n",
    "\n",
    "print('Done!')"
   ]
  },
  {
   "cell_type": "markdown",
   "metadata": {},
   "source": [
    "Devide CCC into three intervals"
   ]
  },
  {
   "cell_type": "code",
   "execution_count": 9,
   "metadata": {
    "scrolled": true
   },
   "outputs": [],
   "source": [
    "ccc_pv_before = pd.cut(ccc_results['Before transformation'], \n",
    "                       [-.1, .5, .8, 1.1], labels=['0-0.5', '0.5-0.8', '0.8-1.0'])\n",
    "ccc_pv_before = ccc_pv_before.value_counts() / 20062\n",
    "ccc_pv_before = ccc_pv_before\n",
    "\n",
    "ccc_pv_after = pd.cut(ccc_results['After transformation'], \n",
    "                       [-.1, .5, .8, 1.1], labels=['0-0.5', '0.5-0.8', '0.8-1.0'])\n",
    "ccc_pv_after = ccc_pv_after.value_counts() / 20062\n",
    "ccc_pv_after = ccc_pv_after\n",
    "\n",
    "ccc_pv = pd.concat([ccc_pv_before, ccc_pv_after], axis=1)\n",
    "ccc_pv.columns = ['Before transformation', 'After transformation']"
   ]
  },
  {
   "cell_type": "code",
   "execution_count": null,
   "metadata": {},
   "outputs": [],
   "source": []
  },
  {
   "cell_type": "code",
   "execution_count": 10,
   "metadata": {},
   "outputs": [
    {
     "data": {
      "text/plain": [
       "<Axes: >"
      ]
     },
     "execution_count": 10,
     "metadata": {},
     "output_type": "execute_result"
    },
    {
     "data": {
      "image/png": "[encoded data removed]",
      "text/plain": [
       "<Figure size 500x500 with 1 Axes>"
      ]
     },
     "metadata": {},
     "output_type": "display_data"
    }
   ],
   "source": [
    "bot_bar_plot(ccc_pv.loc[['0.8-1.0', '0.5-0.8', '0-0.5']].T, palette=b_palette)"
   ]
  },
  {
   "cell_type": "code",
   "execution_count": null,
   "metadata": {},
   "outputs": [],
   "source": []
  },
  {
   "cell_type": "markdown",
   "metadata": {},
   "source": [
    "# End"
   ]
  },
  {
   "cell_type": "code",
   "execution_count": null,
   "metadata": {},
   "outputs": [],
   "source": []
  }
 ],
 "metadata": {
  "kernelspec": {
   "display_name": "procrust_test",
   "language": "python",
   "name": "procrust_test"
  },
  "language_info": {
   "codemirror_mode": {
    "name": "ipython",
    "version": 3
   },
   "file_extension": ".py",
   "mimetype": "text/x-python",
   "name": "python",
   "nbconvert_exporter": "python",
   "pygments_lexer": "ipython3",
   "version": "3.9.1"
  },
  "toc": {
   "base_numbering": 1,
   "nav_menu": {},
   "number_sections": true,
   "sideBar": true,
   "skip_h1_title": false,
   "title_cell": "Table of Contents",
   "title_sidebar": "Contents",
   "toc_cell": false,
   "toc_position": {
    "height": "calc(100% - 180px)",
    "left": "10px",
    "top": "150px",
    "width": "217.998px"
   },
   "toc_section_display": true,
   "toc_window_display": true
  }
 },
 "nbformat": 4,
 "nbformat_minor": 4
}
